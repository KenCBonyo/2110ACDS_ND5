{
 "cells": [
  {
   "cell_type": "code",
   "execution_count": null,
   "metadata": {},
   "outputs": [],
   "source": [
    "#Plotly code for generating scatter subplots\n",
    "\n",
    "import plotly.graph_objects as go\n",
    "from plotly.subplots import make_subplots\n",
    "\n",
    "fig = make_subplots(rows = 9,\n",
    "                    cols = 5)\n",
    "i, j = 1, 1\n",
    "for index, column in enumerate(num_train_feature_cols):\n",
    "    fig.add_trace(\n",
    "        go.Scatter(x = train_df[column],\n",
    "                    y = train_df['load_shortfall_3h'],\n",
    "                    mode = 'markers',\n",
    "                    # trendline = 'ols'\n",
    "                    ),\n",
    "                    row = i,\n",
    "                    col = j,\n",
    "                    secondary_y = False\n",
    "    )\n",
    "    j += 1\n",
    "    if j == 6:\n",
    "        i += 1\n",
    "        j = 1\n",
    "    # fig.columns\n",
    "fig.update_layout(\n",
    "    autosize = False,\n",
    "    width = 1600,\n",
    "    height = 1600\n",
    ")\n",
    "\n",
    "fig.show()"
   ]
  },
  {
   "cell_type": "code",
   "execution_count": null,
   "metadata": {},
   "outputs": [],
   "source": [
    "# Seaborn code to generate scatter subplots\n",
    "\n",
    "# import warnings\n",
    "# warnings.filterwarnings(\"ignore\")\n",
    "\n",
    "fig, axs = plt.subplots(9,5, figsize=(16,20),)\n",
    "fig.subplots_adjust(hspace = 0.5, wspace=.2)\n",
    "\n",
    "i = 0\n",
    "axs = axs.ravel()\n",
    "\n",
    "for index, column in enumerate(train_feature_cols) :\n",
    "    axs[i].set_title(\"{} vs. Load Shortfall\".format(column.replace('_', ' ')),fontsize=12)\n",
    "\n",
    "    plot = sns.scatterplot(x = train_df[column],\n",
    "                            y = train_df['load_shortfall_3h'],\n",
    "                            ax = axs[i]\n",
    "                            )\n",
    "    ylabels = ['{:.0f}'.format(y) + 'K' for y in plot.get_yticks()/1000 ]\n",
    "    plot.set_yticklabels(ylabels)\n",
    "\n",
    "    i += 1\n",
    "\n",
    "fig.tight_layout(pad=1)"
   ]
  }
 ],
 "metadata": {
  "language_info": {
   "name": "python"
  },
  "orig_nbformat": 4
 },
 "nbformat": 4,
 "nbformat_minor": 2
}
