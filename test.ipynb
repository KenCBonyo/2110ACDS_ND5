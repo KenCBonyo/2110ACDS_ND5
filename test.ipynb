{
 "cells": [
  {
   "cell_type": "code",
   "execution_count": null,
   "metadata": {},
   "outputs": [],
   "source": [
    "#Plotly code for generating scatter subplots\n",
    "\n",
    "import plotly.graph_objects as go\n",
    "from plotly.subplots import make_subplots\n",
    "\n",
    "fig = make_subplots(rows = 9,\n",
    "                    cols = 5)\n",
    "i, j = 1, 1\n",
    "for index, column in enumerate(num_train_feature_cols):\n",
    "    fig.add_trace(\n",
    "        go.Scatter(x = train_df[column],\n",
    "                    y = train_df['load_shortfall_3h'],\n",
    "                    mode = 'markers',\n",
    "                    # trendline = 'ols'\n",
    "                    ),\n",
    "                    row = i,\n",
    "                    col = j,\n",
    "                    secondary_y = False\n",
    "    )\n",
    "    j += 1\n",
    "    if j == 6:\n",
    "        i += 1\n",
    "        j = 1\n",
    "    # fig.columns\n",
    "fig.update_layout(\n",
    "    autosize = False,\n",
    "    width = 1600,\n",
    "    height = 1600\n",
    ")\n",
    "\n",
    "fig.show()"
   ]
  },
  {
   "cell_type": "code",
   "execution_count": null,
   "metadata": {},
   "outputs": [],
   "source": [
    "# Seaborn code to generate scatter subplots\n",
    "\n",
    "# import warnings\n",
    "# warnings.filterwarnings(\"ignore\")\n",
    "\n",
    "fig, axs = plt.subplots(9,5, figsize=(16,20),)\n",
    "fig.subplots_adjust(hspace = 0.5, wspace=.2)\n",
    "\n",
    "i = 0\n",
    "axs = axs.ravel()\n",
    "\n",
    "for index, column in enumerate(train_feature_cols) :\n",
    "    axs[i].set_title(\"{} vs. Load Shortfall\".format(column.replace('_', ' ')),fontsize=12)\n",
    "\n",
    "    plot = sns.scatterplot(x = train_df[column],\n",
    "                            y = train_df['load_shortfall_3h'],\n",
    "                            ax = axs[i]\n",
    "                            )\n",
    "    ylabels = ['{:.0f}'.format(y) + 'K' for y in plot.get_yticks()/1000 ]\n",
    "    plot.set_yticklabels(ylabels)\n",
    "\n",
    "    i += 1\n",
    "\n",
    "fig.tight_layout(pad=1)"
   ]
  },
  {
   "cell_type": "code",
   "execution_count": null,
   "metadata": {},
   "outputs": [],
   "source": [
    "# Matplotlib for plotting features for Valencia & pressure\n",
    "fig, axs = plt.subplots(4,3,figsize = (15,10))\n",
    "\n",
    "axs = axs.ravel()\n",
    "\n",
    "i = 0\n",
    "for idx, col in enumerate([col for col in train_df.columns if any([i in col for i in ['Valencia', 'pressure']])]):\n",
    "    axs[i].set_title('')\n",
    "    axs[i].scatter(x = train_df[col],            #Plot the scatter\n",
    "                    y = train_df['Valencia_pressure'],\n",
    "                    color='#349',edgecolor='k')\n",
    "    i += 1\n"
   ]
  },
  {
   "cell_type": "markdown",
   "metadata": {},
   "source": [
    "#### Wind_deg Attribute\n",
    "The wind degree weather attribute refers to the **cardinal direction** of the wind direction, which is reported in degrees, with a range from 0° - 359°. <br>\n",
    "This is evident in **Barcelona & Bilbao values**.<br>\n",
    "Given that the *degree values lie on a scale*, which can't be determined to really be *quantitative* (ie. is 5° better than 320°???), we choose to express this attribute in categorical format.<br/>\n",
    "We shall categorize **Barcelona & Bilbao values** in line with the categorical distribution of **Valencia_wind_deg** feature, which has values ranging from level_1 - level_10 (**10 distinct levels**) <br>"
   ]
  },
  {
   "cell_type": "markdown",
   "metadata": {},
   "source": [
    "- As mentioned earlier, values in the wind_deg & pressure were viewed to be categorical & numerical.\n",
    "- It is necessary to have a common data type for these attributes so that our model is able to carry out calculations on them."
   ]
  },
  {
   "cell_type": "code",
   "execution_count": null,
   "metadata": {},
   "outputs": [],
   "source": []
  }
 ],
 "metadata": {
  "language_info": {
   "name": "python"
  },
  "orig_nbformat": 4
 },
 "nbformat": 4,
 "nbformat_minor": 2
}
